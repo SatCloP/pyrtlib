{
  "cells": [
    {
      "cell_type": "markdown",
      "metadata": {},
      "source": [
        "\n# Uncertainty Example\n"
      ]
    },
    {
      "cell_type": "markdown",
      "metadata": {},
      "source": [
        "This example shows how to use the uncertainty module by simulating the downwelling brightness temperature\nand then calculate the uncertainty due to uncertainties in ${O_2}$ and ${H_2 O}$ parameter.\n\n"
      ]
    },
    {
      "cell_type": "code",
      "execution_count": null,
      "metadata": {
        "collapsed": false
      },
      "outputs": [],
      "source": [
        "import matplotlib.pyplot as plt\n\nplt.rcParams.update({'font.size': 15})\nimport matplotlib.ticker as ticker\nfrom matplotlib.ticker import ScalarFormatter\nimport numpy as np\nimport pandas as pd"
      ]
    },
    {
      "cell_type": "markdown",
      "metadata": {},
      "source": [
        "## Import pyrtlib package and tools\n\n"
      ]
    },
    {
      "cell_type": "code",
      "execution_count": null,
      "metadata": {
        "collapsed": false
      },
      "outputs": [],
      "source": [
        "from pyrtlib.uncertainty import AbsModUncertainty, SpectroscopicParameter\nfrom pyrtlib.climatology import AtmosphericProfiles as atmp\nfrom pyrtlib.tb_spectrum import TbCloudRTE\nfrom pyrtlib.absorption_model import O2AbsModel\nfrom pyrtlib.utils import ppmv2gkg, mr2rh, get_frequencies, constants\nfrom pyrtlib.uncertainty import covariance_matrix"
      ]
    },
    {
      "cell_type": "markdown",
      "metadata": {},
      "source": [
        "## Define spectroscopic parameters to be perturbed and them uncertainties\n\n"
      ]
    },
    {
      "cell_type": "code",
      "execution_count": null,
      "metadata": {
        "collapsed": false
      },
      "outputs": [],
      "source": [
        "O2_parameters = {\n    'O2S': range(1),\n    'X05': [None],\n    'WB300': [None],\n    'O2gamma': range(34),\n    'Y300': range(34),\n    'O2_V': range(34)\n}\n\nHO2_parameters = {\n    'con_Cf_factr': [None],\n    'con_Cs_factr': [None],\n    'gamma_a': range(1),\n    'S': range(1),\n    'con_Xf': [None],\n    'SR': range(1),\n    'con_Xs': [None]\n}"
      ]
    },
    {
      "cell_type": "code",
      "execution_count": null,
      "metadata": {
        "collapsed": false
      },
      "outputs": [],
      "source": [
        "parameters = {**SpectroscopicParameter.oxygen_parameters('R18'),\n              **SpectroscopicParameter.water_parameters('R17')}\n\nparameters['O2S'].uncer = parameters['O2S'].value / 100\nparameters['X05'].uncer = 0.05\nparameters['WB300'].uncer = 0.05\nparameters['O2gamma'].uncer[0: 34] = np.array([0.05, 0.0138964, 0.0138964, 0.0138964, 0.0138964,\n                                               0.0138964, 0.0138964, 0.0138964, 0.0138964, 0.0138964,\n                                               0.0138964, 0.0138964, 0.0138964, 0.0138964, 0.0138964,\n                                               0.0138964, 0.0138964, 0.0138964, 0.0138964, 0.0138964,\n                                               0.0138964, 0.01131274, 0.01131274, 0.01453087, 0.01453087,\n                                               0.01789881, 0.01789881, 0.02116733, 0.02134575, 0.02476584,\n                                               0.02476584, 0.02839177, 0.02839177, 0.03203582])\nparameters['Y300'].uncer[0: 34] = np.array([0.01, 0.00404133, 0.00502581, 0.00786035, 0.00820458,\n                                            0.00935381, 0.00809901, 0.0078214, 0.00544132, 0.00460658,\n                                            0.00225117, 0.00209907, 0.0039399, 0.00484963, 0.00799499,\n                                            0.00878031, 0.01202685, 0.01261821, 0.01577055, 0.01615187,\n                                            0.01907464, 0.01926978, 0.0218633, 0.02188287, 0.02416567,\n                                            0.02401716, 0.02604178, 0.02575469, 0.02762271, 0.02720018,\n                                            0.02897909, 0.02843003, 0.03019027, 0.02951218])\nparameters['O2_V'].uncer[0: 34] = np.array([0.00288243, 0.04655306, 0.03914166, 0.06110402, 0.0494057,\n                                            0.05728709, 0.06444876, 0.07279906, 0.06385863, 0.07007177,\n                                            0.05963384, 0.06373721, 0.11789158, 0.12307213, 0.10151855,\n                                            0.10427449, 0.08328802, 0.08486523, 0.10130857, 0.10244286,\n                                            0.15750036, 0.15814743, 0.24421784, 0.24343211, 0.3084326,\n                                            0.30576201, 0.34568212, 0.34107696, 0.36123446, 0.35507902,\n                                            0.37305309, 0.36544166, 0.38490936, 0.37583782])\n\nparameters['gamma_a'].uncer[0] = 0.039\nparameters['S'].uncer[0] = 0.043 * 1e-25 * constants('light')[0] * 100\nparameters['con_Xf'].uncer = 0.8\nparameters['SR'].uncer[0] = 0.0014\nparameters['con_Xs'].uncer = 0.6\n\nSpectroscopicParameter.set_parameters(parameters)"
      ]
    },
    {
      "cell_type": "markdown",
      "metadata": {},
      "source": [
        "## Load standard atmosphere (low res at lower levels, only 1 level within 1 km) and define which absorption model will be used.\n\n"
      ]
    },
    {
      "cell_type": "code",
      "execution_count": null,
      "metadata": {
        "collapsed": false
      },
      "outputs": [],
      "source": [
        "z, p, _, t, md = atmp.gl_atm(atmp.TROPICAL)\n\ngkg = ppmv2gkg(md[:, atmp.H2O], atmp.H2O)\nrh = mr2rh(p, t, gkg)[0] / 100"
      ]
    },
    {
      "cell_type": "markdown",
      "metadata": {},
      "source": [
        "## Use frequencies set of HATPRO Radiometer\n\n"
      ]
    },
    {
      "cell_type": "code",
      "execution_count": null,
      "metadata": {
        "collapsed": false
      },
      "outputs": [],
      "source": [
        "interp = 0.5\nfrq = sorted(list(set().union(get_frequencies('hat'), np.arange(20, 60 + interp, interp).tolist())))"
      ]
    },
    {
      "cell_type": "markdown",
      "metadata": {},
      "source": [
        "## Performing uncertainty of brightness temperature\nDefault calculatoin consideres no cloud and no perturbation\n\n"
      ]
    },
    {
      "cell_type": "code",
      "execution_count": null,
      "metadata": {
        "collapsed": false
      },
      "outputs": [],
      "source": [
        "rte = TbCloudRTE(z, p, t, rh, frq, amu=parameters)\nrte.satellite = False\nrte.init_absmdl('R17')\nO2AbsModel.model = 'R18'\nO2AbsModel.set_ll()\ndf = rte.execute()"
      ]
    },
    {
      "cell_type": "code",
      "execution_count": null,
      "metadata": {
        "collapsed": false
      },
      "outputs": [],
      "source": [
        "df_out = pd.DataFrame()\ndf_out['freq'] = frq\ndf_out['tb'] = df.tbtotal"
      ]
    },
    {
      "cell_type": "markdown",
      "metadata": {},
      "source": [
        "## Calculate Jacobian matrix\n$Cov(T_{b}) = K_{p} \\times Cov(p) \\times K_{p}^T$\n\n"
      ]
    },
    {
      "cell_type": "code",
      "execution_count": null,
      "metadata": {
        "collapsed": false
      },
      "outputs": [],
      "source": [
        "cnt = 0\nfor k, v in (O2_parameters | HO2_parameters).items():\n    for i in v:\n        amu_p = AbsModUncertainty.parameters_perturbation([k], 'max', index=i)\n        rte.set_amu(amu_p)\n        df = rte.execute()\n        if k =='O2S':\n            parameters[k].uncer = parameters[k].uncer / parameters[k].value * 100\n        if k in ['con_Cf_factr', 'con_Cs_factr']:\n            parameters[k].uncer = parameters[k[0:6]].value * parameters[k].uncer\n        field_name = 'p_{}{}'.format(k, '_' + str(i) if i else '')\n        delta_tb = df.tbtotal.values - df_out.tb.values\n        if i is not None:\n            o = pd.Series(delta_tb / parameters[k].uncer[i], name=field_name)\n        else:\n            o = pd.Series(delta_tb / parameters[k].uncer, name=field_name)\n        df_out = pd.concat([df_out, o], axis=1)\n        cnt += 1"
      ]
    },
    {
      "cell_type": "markdown",
      "metadata": {},
      "source": [
        "## Calculate uncertainty (sigma) for BT\nUsing covariance matrix by [Cimini-2018]_ which identifies 111 parameters (6 for water vapor and 105 for oxygen)\n\n"
      ]
    },
    {
      "cell_type": "code",
      "execution_count": null,
      "metadata": {
        "collapsed": false
      },
      "outputs": [],
      "source": [
        "params = df_out.copy()\n\nKp = df_out.loc[:, ~df_out.columns.isin(['tb', 'freq', 'p_con_Xs'])].values\ncovtb = np.matmul(np.matmul(Kp, covariance_matrix.R17_111), Kp.T)\nsigma_tb = np.sqrt(np.diag(covtb))\nparams['sigma_tb'] = sigma_tb"
      ]
    },
    {
      "cell_type": "markdown",
      "metadata": {},
      "source": [
        "Using covariance matrix by [Cimini-2019]_ which add the ${n_{CS}}$ parameter for water vapour \n\n"
      ]
    },
    {
      "cell_type": "code",
      "execution_count": null,
      "metadata": {
        "collapsed": false
      },
      "outputs": [],
      "source": [
        "Kp = df_out.loc[:, ~df_out.columns.isin(['tb', 'freq'])].values\ncovtb = np.matmul(np.matmul(Kp, covariance_matrix.R17_112), Kp.T)\nsigma_tb = np.sqrt(np.diag(covtb))\nparams['sigma_tb_with_con_Xs'] = sigma_tb"
      ]
    },
    {
      "cell_type": "code",
      "execution_count": null,
      "metadata": {
        "collapsed": false
      },
      "outputs": [],
      "source": [
        "params.plot(x='freq', y=['sigma_tb', 'sigma_tb_with_con_Xs'],\n            title=\"${T_B}$ uncertainty due to uncertainties in ${O_2}$ and ${H_2 O}$ parameters\",\n            xlabel='Frequency [GHz]', ylabel='$\\sigma_{T_B}$ [K]',\n            label=[atmp.atm_profiles()[atmp.TROPICAL], \n                   atmp.atm_profiles()[atmp.TROPICAL] + ' with ${H_2 O}$ ${n_{CS}}$ parameter'], \n                   figsize=(12,8))\nplt.grid()"
      ]
    }
  ],
  "metadata": {
    "kernelspec": {
      "display_name": "Python 3",
      "language": "python",
      "name": "python3"
    },
    "language_info": {
      "codemirror_mode": {
        "name": "ipython",
        "version": 3
      },
      "file_extension": ".py",
      "mimetype": "text/x-python",
      "name": "python",
      "nbconvert_exporter": "python",
      "pygments_lexer": "ipython3",
      "version": "3.12.3"
    }
  },
  "nbformat": 4,
  "nbformat_minor": 0
}