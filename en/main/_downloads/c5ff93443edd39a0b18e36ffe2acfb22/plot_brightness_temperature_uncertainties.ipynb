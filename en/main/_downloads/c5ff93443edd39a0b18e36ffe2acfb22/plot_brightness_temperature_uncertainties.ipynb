{
  "cells": [
    {
      "cell_type": "markdown",
      "metadata": {},
      "source": [
        "\n# Performing sensitivity of spectroscopic parameters \n"
      ]
    },
    {
      "cell_type": "markdown",
      "metadata": {},
      "source": [
        "This example shows how to use the\n:py:class:`pyrtlib.tb_spectrum.TbCloudRTE` method to calculate sensitivity of simulated downwelling brightness temperature\nwith a perturbed water vapor absorption parameter ($\\gamma_a$ air broadening 22 GHz) from [Cimini-2018]_.\n\n"
      ]
    },
    {
      "cell_type": "code",
      "execution_count": null,
      "metadata": {
        "collapsed": false
      },
      "outputs": [],
      "source": [
        "import matplotlib.pyplot as plt\nimport numpy as np\nplt.rcParams.update({'font.size': 15})\n\nfrom pyrtlib.climatology import AtmosphericProfiles as atmp\nfrom pyrtlib.tb_spectrum import TbCloudRTE\nfrom pyrtlib.absorption_model import H2OAbsModel, O2AbsModel\nfrom pyrtlib.uncertainty import AbsModUncertainty, SpectroscopicParameter\nfrom pyrtlib.utils import ppmv2gkg, mr2rh\n\natm = ['Tropical',\n       'Midlatitude Summer',\n       'Midlatitude Winter',\n       'Subarctic Summer',\n       'Subarctic Winter',\n       'U.S. Standard']\n\ncolors = [\"r\", \"m\", \"g\", \"b\", \"c\", \"k\"]\n\nfig, ax = plt.subplots(1, 1, figsize=(12, 8))\nax.set_xlabel('Frequency [GHz]')\nax.set_ylabel('$\\Delta {T_B}$ [K]')\nfor i in range(0, 6):\n\n    z, p, d, t, md = atmp.gl_atm(i)\n\n    gkg = ppmv2gkg(md[:, atmp.H2O], atmp.H2O)\n    rh = mr2rh(p, t, gkg)[0] / 100\n\n    interp = .1\n    frq = np.arange(20, 60 + interp, interp)\n\n    parameters = {**SpectroscopicParameter.water_parameters('R17'), **SpectroscopicParameter.oxygen_parameters('R18')}\n    parameters['gamma_a'].value[0] = 2.688\n    parameters['gamma_a'].uncer[0] = 0.039\n    SpectroscopicParameter.set_parameters(parameters)\n    \n    rte = TbCloudRTE(z, p, t, rh, frq, amu=parameters)\n    rte.init_absmdl('R17')\n    O2AbsModel.model = 'R18'\n    O2AbsModel.set_ll()\n    rte.satellite = False\n    df = rte.execute()\n    \n    parameters = AbsModUncertainty.parameters_perturbation(['gamma_a'], 'max', index=0)\n    rte.set_amu(parameters)\n    df_gamma = rte.execute()\n    df['delta_max_gamma_a'] = df_gamma.tbtotal - df.tbtotal\n\n    parameters = AbsModUncertainty.parameters_perturbation(['gamma_a'], 'min', index=0)\n    rte.set_amu(parameters)\n    df_gamma = rte.execute()\n    df['delta_min_gamma_a'] = df_gamma.tbtotal - df.tbtotal\n\n    df = df.set_index(frq)\n\n    df.delta_max_gamma_a.plot(ax=ax, style='--', label='_nolegend_', color=colors[i])\n    df.delta_min_gamma_a.plot(ax=ax, label='{}'.format(atm[i]), color=colors[i])\n\n    ax.legend()\n    ax.set_box_aspect(0.7)\n\nax.grid(True, 'both')\nplt.title(\"Perturbed parameter: $\\ H_2O - \\gamma_a$\")\nplt.show()"
      ]
    },
    {
      "cell_type": "markdown",
      "metadata": {},
      "source": [
        "Solid lines correspond to negative perturbation (value\u2009\u2212\u2009uncertainty), \nwhile dashed lines correspond to positive perturbation (value\u2009+\u2009uncertainty).\n"
      ]
    }
  ],
  "metadata": {
    "kernelspec": {
      "display_name": "Python 3",
      "language": "python",
      "name": "python3"
    },
    "language_info": {
      "codemirror_mode": {
        "name": "ipython",
        "version": 3
      },
      "file_extension": ".py",
      "mimetype": "text/x-python",
      "name": "python",
      "nbconvert_exporter": "python",
      "pygments_lexer": "ipython3",
      "version": "3.12.3"
    }
  },
  "nbformat": 4,
  "nbformat_minor": 0
}