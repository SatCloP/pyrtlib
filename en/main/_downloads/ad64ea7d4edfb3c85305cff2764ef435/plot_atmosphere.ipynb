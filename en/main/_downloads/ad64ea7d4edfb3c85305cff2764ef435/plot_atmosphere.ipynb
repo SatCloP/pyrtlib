{
  "cells": [
    {
      "cell_type": "markdown",
      "metadata": {},
      "source": [
        "\n# Atmospheric Profiles\n"
      ]
    },
    {
      "cell_type": "markdown",
      "metadata": {},
      "source": [
        "This example shows how to use the\n:py:class:`pyrtlib.climatology.AtmosphericProfiles` method to generate temperature and relative humidity profiles\n\n"
      ]
    },
    {
      "cell_type": "code",
      "execution_count": null,
      "metadata": {
        "collapsed": false
      },
      "outputs": [],
      "source": [
        "import matplotlib.pyplot as plt\n\nplt.rcParams.update({'font.size': 15})\nimport matplotlib.ticker as ticker\nfrom matplotlib.ticker import ScalarFormatter\nimport numpy as np\n\nfrom pyrtlib.climatology import AtmosphericProfiles as atmp\nfrom pyrtlib.utils import ppmv2gkg, mr2rh, height_to_pressure\n\n\ndef tick_function(x):\n    v = x - 273.15\n    return [\"%.1f\" % z for z in v]\n\n\ndef tick_function_pressure(p, z, ticks):\n    values = []\n    for tick in ticks:\n        v = p[np.where(z==tick)]\n        values.append(v[0])\n    return values\n\n\nz, p, d, t, md = atmp.gl_atm(atmp.US_STANDARD)\n\ngkg = ppmv2gkg(md[:, atmp.H2O], atmp.H2O)\nrh = mr2rh(p, t, gkg)[0] / 100\n\nfig, ax = plt.subplots(1, 2, figsize=(12, 12))\nax1 = ax[0].twiny()\n\nax[1].yaxis.set_label_position(\"right\")\nax[1].yaxis.tick_right()\nax[1].yaxis.set_major_formatter(ScalarFormatter())\nax[1].yaxis.set_major_formatter(ticker.FuncFormatter(lambda y, _: '{:g}'.format(y)))\n\nfig.subplots_adjust(bottom=0.2)\n\nax[0].plot(t, z)\nax[1].plot(rh * 100, z)\nax[0].set_xlabel(\"Temperature [K]\")\nax[1].set_xlabel(\"Relative Humidity [%]\")\nax[1].axes.get_yaxis().set_visible(False)\nax[0].set_ylabel(\"Altitude [km]\")\n\nnew_tick_locations_pressure = np.arange(0, 140, 20)\nax3 = ax[0].twinx()\nrspine = ax3.spines['left'].set_position(('axes', -0.2))\nax3.yaxis.set_ticks_position(\"left\")\nax3.yaxis.set_label_position(\"left\")\nax3.set_frame_on(True)\nax3.patch.set_visible(False)\nax3.set_ylabel('Pressure [hPa]')\nax3.set_yticks(new_tick_locations_pressure)\nax3.set_yticklabels(tick_function_pressure(p, z, new_tick_locations_pressure))\nax3.set_ylim(ax[1].get_ylim())\n\nnew_tick_locations = np.arange(175, 400, 50)\n\nax1.xaxis.set_ticks_position(\"bottom\")\nax1.xaxis.set_label_position(\"bottom\")\n\n# Offset the twin axis below the host\nax1.spines[\"bottom\"].set_position((\"axes\", -0.1))\nax1.set_frame_on(True)\nax1.patch.set_visible(False)\n\nax1.spines[\"bottom\"].set_visible(True)\n\nax1.set_xticks(new_tick_locations)\nax1.set_xticklabels(tick_function(new_tick_locations))\nax1.set_xlabel(\"Temperature [\u00b0C]\")\nax1.set_xlim(ax[0].get_xlim())\nfig.tight_layout()"
      ]
    }
  ],
  "metadata": {
    "kernelspec": {
      "display_name": "Python 3",
      "language": "python",
      "name": "python3"
    },
    "language_info": {
      "codemirror_mode": {
        "name": "ipython",
        "version": 3
      },
      "file_extension": ".py",
      "mimetype": "text/x-python",
      "name": "python",
      "nbconvert_exporter": "python",
      "pygments_lexer": "ipython3",
      "version": "3.12.3"
    }
  },
  "nbformat": 4,
  "nbformat_minor": 0
}