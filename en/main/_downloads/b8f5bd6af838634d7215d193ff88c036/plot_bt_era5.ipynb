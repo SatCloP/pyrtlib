{
  "cells": [
    {
      "cell_type": "markdown",
      "metadata": {},
      "source": [
        "\n# Performing Upwelling Brightness Temperature calculation using ERA5 Reanalysis Observations.\n"
      ]
    },
    {
      "cell_type": "markdown",
      "metadata": {},
      "source": [
        "This example shows how to use the\n:py:class:`pyrtlib.tb_spectrum.TbCloudRTE` method to calculate brightness temperature from satellite (upwelling) using\nobservations from ERA5 Reanalysis hourly pressure levels dataset.\n\n"
      ]
    },
    {
      "cell_type": "code",
      "execution_count": null,
      "metadata": {
        "collapsed": false
      },
      "outputs": [],
      "source": [
        "import matplotlib.pyplot as plt\n\nplt.rcParams.update({'font.size': 15})\nimport numpy as np\nfrom pyrtlib.tb_spectrum import TbCloudRTE\nfrom pyrtlib.utils import import_lineshape\nfrom pyrtlib.absorption_model import H2OAbsModel\nfrom pyrtlib.apiwebservices import ERA5Reanalysis\n\n# To request dataset via CDS API\n# date = datetime(2020, 2, 22, 12)\n# nc_file = ERA5Reanalysis.request_data(tempfile.gettempdir(), date, lonlat)\n\n# Tito Scalo, Potenza, Italy\nlonlat = (15.8158, 38.2663)\nnc_file = 'era5_reanalysis-2023-05-16T18:00:00.nc'\ndf_era5 = ERA5Reanalysis.read_data(nc_file, lonlat)\n\nmdl = 'R21SD'\nang = np.array([90.])\nfrq = np.arange(20, 201, 1)\nnf = len(frq)\n\nrte = TbCloudRTE(df_era5.z.values, df_era5.p.values, df_era5.t.values, df_era5.rh.values, frq, ang)\nrte.init_absmdl('R20')\nH2OAbsModel.model = 'R21SD'\nH2OAbsModel.h2oll = import_lineshape('h2oll')\ndf = rte.execute()\ndf = df.set_index(frq)\n\nfig, ax = plt.subplots(1, 1, figsize=(12, 8))\nplt.title(\n    \"ERA5 Reanalysis dataset (hourly pressure levels) {}\".format(df_era5.time[0].strftime(format='%Y-%m-%d %H:%M')),\n    ha='center')\nax.set_xlabel('Frequency [GHz]')\nax.set_ylabel('${T_B}$ [K]')\ndf.tbtotal.plot(ax=ax, linewidth=2, label='{} - {}'.format(lonlat, mdl))\nax.grid(True, 'both')\nax.legend()\nplt.show()"
      ]
    }
  ],
  "metadata": {
    "kernelspec": {
      "display_name": "Python 3",
      "language": "python",
      "name": "python3"
    },
    "language_info": {
      "codemirror_mode": {
        "name": "ipython",
        "version": 3
      },
      "file_extension": ".py",
      "mimetype": "text/x-python",
      "name": "python",
      "nbconvert_exporter": "python",
      "pygments_lexer": "ipython3",
      "version": "3.12.3"
    }
  },
  "nbformat": 4,
  "nbformat_minor": 0
}