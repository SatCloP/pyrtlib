{
  "cells": [
    {
      "cell_type": "markdown",
      "metadata": {},
      "source": [
        "\n# Performing Downwelling Brightness Temperature calculation in cloudy condition.\n"
      ]
    },
    {
      "cell_type": "markdown",
      "metadata": {},
      "source": [
        "This example shows how to use the\n:py:class:`pyrtlib.tb_spectrum.TbCloudRTE` method to calculate brightness temperature from ground (downwelling) in cloudy condition\n\n"
      ]
    },
    {
      "cell_type": "code",
      "execution_count": null,
      "metadata": {
        "collapsed": false
      },
      "outputs": [],
      "source": [
        "import matplotlib.pyplot as plt\nfrom matplotlib.ticker import FixedLocator, FormatStrFormatter\nplt.rcParams.update({'font.size': 15})\nimport numpy as np\nnp.seterr('raise')\n\nfrom pyrtlib.climatology import AtmosphericProfiles as atmp\nfrom pyrtlib.tb_spectrum import TbCloudRTE\nfrom pyrtlib.utils import ppmv2gkg, mr2rh\n\natm = ['Tropical',\n       'Midlatitude Summer',\n       'Midlatitude Winter',\n       'Subarctic Summer',\n       'Subarctic Winter',\n       'U.S. Standard']\n\nfig, ax = plt.subplots(1, 1, figsize=(12, 8))\n\nz, p, d, t, md = atmp.gl_atm(atmp.MIDLATITUDE_SUMMER)\ngkg = ppmv2gkg(md[:, atmp.H2O], atmp.H2O)\nrh = mr2rh(p, t, gkg)[0] / 100\n\nmdl = 'R19SD'\n\nang = np.array([90.])\nfrq = np.arange(20, 61, 1)\nnf = len(frq)\n\ndenliq = np.zeros(z.shape)\ndenice = np.zeros(z.shape)\ncldh = np.empty((2, 2))\n\nfor i in [False, True]:\n    if not i:\n        text_plot = 'clear-sky'\n    else:\n        # build a cloud\n        ib = 1\n        it = 3\n        denliq[ib:it + 1] = 10 * np.ones((it - ib + 1))\n        cldh[:, 0] = np.array([z[ib], z[it]])\n        ib = 29\n        it = 31\n        denice[ib:it + 1] = 0.1 * np.ones((it - ib + 1))\n        cldh[:, 1] = np.array([z[ib], z[it]])\n        text_plot = 'cloudy'\n\n    ax.set_xlabel('Frequency (GHz)')\n    ax.set_ylabel('BT (K)')\n\n    rte = TbCloudRTE(z, p, t, rh, frq, ang)\n    rte.satellite = False\n    rte.cloudy = i\n    rte.init_cloudy(cldh, denice, denliq)\n    rte.init_absmdl(mdl)\n    df = rte.execute()\n\n    df = df.set_index(frq)\n    df.tbtotal.plot(x=frq, ax=ax, linewidth=1,\n                    label='{} - {} ({})'.format(atm[atmp.MIDLATITUDE_SUMMER], mdl, text_plot))\n\nax.grid(True, 'both')\nax.legend()\nplt.show()"
      ]
    }
  ],
  "metadata": {
    "kernelspec": {
      "display_name": "Python 3",
      "language": "python",
      "name": "python3"
    },
    "language_info": {
      "codemirror_mode": {
        "name": "ipython",
        "version": 3
      },
      "file_extension": ".py",
      "mimetype": "text/x-python",
      "name": "python",
      "nbconvert_exporter": "python",
      "pygments_lexer": "ipython3",
      "version": "3.12.3"
    }
  },
  "nbformat": 4,
  "nbformat_minor": 0
}