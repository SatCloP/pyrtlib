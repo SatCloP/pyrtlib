{
  "cells": [
    {
      "cell_type": "markdown",
      "metadata": {},
      "source": [
        "\n# Performing Upwelling Brightness Temperature calculation\n"
      ]
    },
    {
      "cell_type": "markdown",
      "metadata": {},
      "source": [
        "This example shows how to use the\n:py:class:`pyrtlib.tb_spectrum.TbCloudRTE` method to calculate zenith upwelling brightness temperature\nfor six reference atmosphere climatology with the R19SD model.\n\n"
      ]
    },
    {
      "cell_type": "code",
      "execution_count": null,
      "metadata": {
        "collapsed": false
      },
      "outputs": [],
      "source": [
        "import matplotlib.pyplot as plt\n\nplt.rcParams.update({'font.size': 15})\nimport numpy as np\n\nfrom pyrtlib.climatology import AtmosphericProfiles as atmp\nfrom pyrtlib.tb_spectrum import TbCloudRTE\nfrom pyrtlib.utils import ppmv2gkg, mr2rh\n\natm = ['Tropical',\n       'Midlatitude Summer',\n       'Midlatitude Winter',\n       'Subarctic Summer',\n       'Subarctic Winter',\n       'U.S. Standard']\n\nfig, ax = plt.subplots(1, 1, figsize=(12, 8))\n\nfor i in range(0, 6):\n    z, p, d, t, md = atmp.gl_atm(i)\n    gkg = ppmv2gkg(md[:, atmp.H2O], atmp.H2O)\n    rh = mr2rh(p, t, gkg)[0] / 100\n\n    mdl = 'R19SD'\n\n    ang = np.array([90.])\n    frq = np.arange(20, 61, 1)\n    nf = len(frq)\n\n    ax.set_xlabel('Frequency (GHz)')\n    ax.set_ylabel('BT (K)')\n\n    rte = TbCloudRTE(z, p, t, rh, frq, ang)\n    rte.init_absmdl(mdl)\n    df = rte.execute()\n\n    df = df.set_index(frq)\n    df.tbtotal.plot(ax=ax, linewidth=1, label='{}'.format(atm[i]))\n\nax.grid(True, 'both')\nax.legend()\nax.set_box_aspect(0.8)\nplt.show()"
      ]
    }
  ],
  "metadata": {
    "kernelspec": {
      "display_name": "Python 3",
      "language": "python",
      "name": "python3"
    },
    "language_info": {
      "codemirror_mode": {
        "name": "ipython",
        "version": 3
      },
      "file_extension": ".py",
      "mimetype": "text/x-python",
      "name": "python",
      "nbconvert_exporter": "python",
      "pygments_lexer": "ipython3",
      "version": "3.12.3"
    }
  },
  "nbformat": 4,
  "nbformat_minor": 0
}