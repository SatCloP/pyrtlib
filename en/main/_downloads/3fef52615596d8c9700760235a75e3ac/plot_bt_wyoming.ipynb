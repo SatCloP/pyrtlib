{
  "cells": [
    {
      "cell_type": "markdown",
      "metadata": {},
      "source": [
        "\n# Performing Upwelling Brightness Temperature calculation using Wyoming Upper Air Observations.\n"
      ]
    },
    {
      "cell_type": "markdown",
      "metadata": {},
      "source": [
        "This example shows how to use the\n:py:class:`pyrtlib.tb_spectrum.TbCloudRTE` method to calculate brightness temperature from satellite (upwelling) using\nobservations from Wyoming Upper Air Archive.\n\n"
      ]
    },
    {
      "cell_type": "code",
      "execution_count": null,
      "metadata": {
        "collapsed": false
      },
      "outputs": [],
      "source": [
        "import matplotlib.pyplot as plt\n\nplt.rcParams.update({'font.size': 15})\nimport numpy as np\nfrom datetime import datetime\n\nfrom pyrtlib.tb_spectrum import TbCloudRTE\nfrom pyrtlib.utils import dewpoint2rh, import_lineshape, to_kelvin\nfrom pyrtlib.absorption_model import H2OAbsModel\nfrom pyrtlib.apiwebservices import WyomingUpperAir\n\ndate = datetime(2021, 4, 22, 12)\nstation = 'LIRE'\ndf_w = WyomingUpperAir.request_data(date, station)\n\nz, p, t, q = df_w.height.values / 1000, \\\n               df_w.pressure.values, \\\n               to_kelvin(df_w.temperature.values), \\\n               df_w.mixr.values\n\nrh = dewpoint2rh(df_w.dewpoint, df_w.temperature).values\n\nmdl = 'R21SD'\nang = np.array([90.])\nfrq = np.arange(20, 201, 1)\nnf = len(frq)\n\nrte = TbCloudRTE(z, p, t, rh, frq, ang)\nrte.init_absmdl('R20')\nH2OAbsModel.model = 'R21SD'\nH2OAbsModel.h2oll = import_lineshape('h2oll')\ndf = rte.execute()\ndf = df.set_index(frq)\n\nfig, ax = plt.subplots(1, 1, figsize=(12, 8))\nplt.suptitle(df_w.title[0], y=0.96)\nplt.title(\"Wyoming UpperAir Radiosonde Archive\", fontsize=10, ha='center')\nax.set_xlabel('Frequency [GHz]')\nax.set_ylabel('${T_B}$ [K]')\ndf.tbtotal.plot(ax=ax, linewidth=2, label='{} - {}'.format(df_w.station[0], mdl))\nax.grid(True, 'both')\nax.legend()\nplt.show()"
      ]
    }
  ],
  "metadata": {
    "kernelspec": {
      "display_name": "Python 3",
      "language": "python",
      "name": "python3"
    },
    "language_info": {
      "codemirror_mode": {
        "name": "ipython",
        "version": 3
      },
      "file_extension": ".py",
      "mimetype": "text/x-python",
      "name": "python",
      "nbconvert_exporter": "python",
      "pygments_lexer": "ipython3",
      "version": "3.12.3"
    }
  },
  "nbformat": 4,
  "nbformat_minor": 0
}