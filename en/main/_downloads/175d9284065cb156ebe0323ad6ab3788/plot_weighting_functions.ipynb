{
  "cells": [
    {
      "cell_type": "markdown",
      "metadata": {},
      "source": [
        "\n# Computation of Weighting Functions\n"
      ]
    },
    {
      "cell_type": "markdown",
      "metadata": {},
      "source": [
        "This example shows how to use the :py:class:`pyrtlib.weighting_functions.WeightingFunctions` method \nto compute the weighting functions for the MWS channels for the U.S. standard atmospheric profile.\n\n"
      ]
    },
    {
      "cell_type": "code",
      "execution_count": null,
      "metadata": {
        "collapsed": false
      },
      "outputs": [],
      "source": [
        "import numpy as np\nimport warnings\nwarnings.filterwarnings(\"ignore\", category=UserWarning)\nfrom pyrtlib.weighting_functions import WeightingFunctions\nfrom pyrtlib.climatology import AtmosphericProfiles as atmp\nfrom pyrtlib.utils import ppmv2gkg, mr2rh, get_frequencies_sat\n\nz, p, _, t, md = atmp.gl_atm(atmp.US_STANDARD)\ngkg = ppmv2gkg(md[:, atmp.H2O], atmp.H2O)\nrh = mr2rh(p, t, gkg)[0] / 100\n\nwf = WeightingFunctions(z, p, t, rh)\nwf.frequencies = np.array([50.5, 53.2, 54.35, 54.9, 59.4, 58.825, 58.4])\nwgt = wf.generate_wf()\n\nwf.plot_wf(wgt, 'Downlooking', ylim=[0, 60], legend=True, figsize=(8, 6), dpi=100)"
      ]
    },
    {
      "cell_type": "markdown",
      "metadata": {},
      "source": [
        "As above but with the weighting functions computed in uplooking mode.\n\n"
      ]
    },
    {
      "cell_type": "code",
      "execution_count": null,
      "metadata": {
        "collapsed": false
      },
      "outputs": [],
      "source": [
        "wf.satellite = False\nwgt = wf.generate_wf()\n\nwf.plot_wf(wgt, 'Uplooking', ylim=[0, 10], figsize=(8, 6), dpi=100)"
      ]
    },
    {
      "cell_type": "markdown",
      "metadata": {},
      "source": [
        "The weighting functions can also be computed for a different set of channels.\nThe bandpass values are used to compute the weighting functions for the ATMS channels.\nThe following code compute the weighting functions for the ATMS channels 5-15.\n\n"
      ]
    },
    {
      "cell_type": "code",
      "execution_count": null,
      "metadata": {
        "collapsed": false
      },
      "outputs": [],
      "source": [
        "cf53 = 53.596\ncf57 = 57.290344\nfrq = np.array([52.8, cf53-0.115, cf53+0.115, 54.4, 54.94, 55.5, cf57, \n       cf57-0.217, cf57+0.217, \n       cf57-0.3222-0.048, cf57-0.3222+0.048, cf57+0.3222-0.048, cf57+0.3222+0.048,\n       cf57-0.3222-0.022, cf57-0.3222+0.022, cf57+0.3222-0.022, cf57+0.3222+0.022,\n       cf57-0.3222-0.010, cf57-0.3222+0.010, cf57+0.3222-0.010, cf57+0.3222+0.010,\n       cf57-0.3222-0.0045, cf57-0.3222+0.0045, cf57+0.3222-0.0045, cf57+0.3222+0.0045])\n\nwf.satellite = True\nwf.frequencies = frq\nwf.bandpass = np.array([1, 2, 1, 1, 1, 1, 2, 4, 4, 4, 4])\nwf.legend_labels = [f'Channel {i+5}' for i in range(len(wf.bandpass))]\nwgt = wf.generate_wf()\n\nwf.plot_wf(wgt, 'ATMS Channels 5-15', ylim=[0, 70], xlim=[0, 0.11], legend=True, figsize=(8, 6), dpi=100)"
      ]
    },
    {
      "cell_type": "markdown",
      "metadata": {},
      "source": [
        "The weighting functions can also be computed for a different set of frequencies.\nThe following code compute the weighting functions for the MWS channels for a standard tropical atmosphere.\nfor grouped frequencies.\n\n"
      ]
    },
    {
      "cell_type": "code",
      "execution_count": null,
      "metadata": {
        "collapsed": false
      },
      "outputs": [],
      "source": [
        "wf.satellite = True\nwf.frequencies = get_frequencies_sat('MWS')\nwgt = wf.generate_wf()\nwf.plot_wf_grouped(wgt, 'MWS Channels (grouped)', ylim=[0, 60], \n                  grouped_frequencies=[4, 9, 19, 1, 13],\n                  grouped_labels=['23-52', '53-55', '57', '89', '164-229'], dpi=350)"
      ]
    }
  ],
  "metadata": {
    "kernelspec": {
      "display_name": "Python 3",
      "language": "python",
      "name": "python3"
    },
    "language_info": {
      "codemirror_mode": {
        "name": "ipython",
        "version": 3
      },
      "file_extension": ".py",
      "mimetype": "text/x-python",
      "name": "python",
      "nbconvert_exporter": "python",
      "pygments_lexer": "ipython3",
      "version": "3.12.3"
    }
  },
  "nbformat": 4,
  "nbformat_minor": 0
}