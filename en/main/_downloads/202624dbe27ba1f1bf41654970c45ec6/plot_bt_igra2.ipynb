{
  "cells": [
    {
      "cell_type": "markdown",
      "metadata": {},
      "source": [
        "\n# Performing Upwelling Brightness Temperature calculation using IGRA2 Upper Air Observations (with Extrapolation).\n"
      ]
    },
    {
      "cell_type": "markdown",
      "metadata": {},
      "source": [
        "This example shows how to use the\n:py:class:`pyrtlib.tb_spectrum.TbCloudRTE` method to calculate brightness temperature from satellite (upwelling) using\nobservations from IGRA2 Upper Air Archive and comparison of BT with the extrapoletd profile.\n\n"
      ]
    },
    {
      "cell_type": "code",
      "execution_count": null,
      "metadata": {
        "collapsed": false
      },
      "outputs": [],
      "source": [
        "import numpy as np\nfrom datetime import datetime\n\nimport matplotlib.pyplot as plt\nplt.rcParams.update({'font.size': 15})\n\nfrom pyrtlib.tb_spectrum import TbCloudRTE\nfrom pyrtlib.climatology import ProfileExtrapolation\nfrom pyrtlib.utils import dewpoint2rh, to_kelvin\nfrom pyrtlib.absorption_model import H2OAbsModel\nfrom pyrtlib.apiwebservices import IGRAUpperAir\n\ndate = datetime(2020, 6, 1, 12)\nstation = 'SPM00008221'\ndf_igra2, header = IGRAUpperAir.request_data(date, station)\n\ndf_igra2 = df_igra2[df_igra2.pressure.notna() & \n                    df_igra2.temperature.notna() & \n                    df_igra2.dewpoint.notna() & \n                    df_igra2.height.notna()]\n\nz, p, t = df_igra2.height.values / 1000, df_igra2.pressure.values, to_kelvin(df_igra2.temperature.values)\n\nrh = dewpoint2rh(df_igra2.dewpoint, df_igra2.temperature).values\n\nmdl = 'R21SD'\nfrq = np.arange(20, 201, 1)\nnf = len(frq)\n\nrte = TbCloudRTE(z, p, t, rh, frq)\nrte.init_absmdl('R20')\nH2OAbsModel.model = 'R21SD'\nH2OAbsModel.set_ll()\ndf = rte.execute()\ndf = df.set_index(frq)"
      ]
    },
    {
      "cell_type": "markdown",
      "metadata": {},
      "source": [
        "Extrapolation of profile\n\n"
      ]
    },
    {
      "cell_type": "code",
      "execution_count": null,
      "metadata": {
        "collapsed": false
      },
      "outputs": [],
      "source": [
        "ex = ProfileExtrapolation()\nzz, pp, tt, rhh = ex.profile_extrapolation(header.latitude.values[0], 6, z, (p, t, rh))\n\nrte = TbCloudRTE(zz, pp, tt, rhh, frq)\nrte.init_absmdl('R20')\nH2OAbsModel.model = 'R21SD'\nH2OAbsModel.set_ll()\ndff = rte.execute()\ndff = dff.set_index(frq)"
      ]
    },
    {
      "cell_type": "markdown",
      "metadata": {},
      "source": [
        "Plotting\n\n"
      ]
    },
    {
      "cell_type": "code",
      "execution_count": null,
      "metadata": {
        "collapsed": false
      },
      "outputs": [],
      "source": [
        "fig, ax = plt.subplots(1, 1, figsize=(12, 8))\nplt.suptitle(\"{}, {}, {} - {}\".format(header.site_id.values[0], header.latitude.values[0], header.longitude.values[0], header.date.values[0]), y=0.96)\nplt.title(\"IGRA2 UpperAir Radiosonde Archive\", fontsize=10, ha='center')\nax.set_xlabel('Frequency [GHz]')\nax.set_ylabel('${T_B}$ [K]')\ndf.tbtotal.plot(ax=ax, linewidth=2, label='{} - {}'.format(header.site_id.values[0], mdl))\ndff.tbtotal.plot(ax=ax, linewidth=2, label='Extrap {} - {}'.format(header.site_id.values[0], mdl))\nax.grid(True, 'both')\nax.legend()\nplt.show()"
      ]
    },
    {
      "cell_type": "markdown",
      "metadata": {},
      "source": [
        "Difference BT\n\n"
      ]
    },
    {
      "cell_type": "code",
      "execution_count": null,
      "metadata": {
        "collapsed": false
      },
      "outputs": [],
      "source": [
        "df['delta'] = dff.tbtotal - df.tbtotal\ndf.delta.plot(linewidth=2, xlabel='Frequency [GHz]', ylabel='$\\Delta T_B$ [K]', grid=True, figsize=(12, 8))"
      ]
    }
  ],
  "metadata": {
    "kernelspec": {
      "display_name": "Python 3",
      "language": "python",
      "name": "python3"
    },
    "language_info": {
      "codemirror_mode": {
        "name": "ipython",
        "version": 3
      },
      "file_extension": ".py",
      "mimetype": "text/x-python",
      "name": "python",
      "nbconvert_exporter": "python",
      "pygments_lexer": "ipython3",
      "version": "3.12.3"
    }
  },
  "nbformat": 4,
  "nbformat_minor": 0
}