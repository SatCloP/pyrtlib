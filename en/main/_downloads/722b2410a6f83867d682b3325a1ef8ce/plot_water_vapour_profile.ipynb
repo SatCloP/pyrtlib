{
  "cells": [
    {
      "cell_type": "markdown",
      "metadata": {},
      "source": [
        "\n# Water Vapour Absorption Profiles\n"
      ]
    },
    {
      "cell_type": "markdown",
      "metadata": {},
      "source": [
        "This example shows how to use the\n:py:meth:`pyrtlib.rt_equation.RTEquation.clearsky_absorption` method to generate water vapor absorption profil and\ndry air absorption profile using ``R16`` model.\n\n"
      ]
    },
    {
      "cell_type": "code",
      "execution_count": null,
      "metadata": {
        "collapsed": false
      },
      "outputs": [],
      "source": [
        "import matplotlib.pyplot as plt\n\nplt.rcParams.update({'font.size': 15})\nimport matplotlib.ticker as ticker\nfrom matplotlib.ticker import ScalarFormatter\nimport numpy as np\n\nfrom pyrtlib.rt_equation import RTEquation\nfrom pyrtlib.absorption_model import H2OAbsModel, O2AbsModel, AbsModel\nfrom pyrtlib.climatology import AtmosphericProfiles as atmp\nfrom pyrtlib.utils import ppmv2gkg, mr2rh, import_lineshape, height_to_pressure\n\nz, p, d, t, md = atmp.gl_atm(atmp.TROPICAL)\nfrq = np.arange(20, 61, 1)\nice = 0\ngkg = ppmv2gkg(md[:, atmp.H2O], atmp.H2O)\nrh = mr2rh(p, t, gkg)[0] / 100\n\ne, rho = RTEquation.vapor(t, rh, ice)\n\nmdl = 'R19SD'\nAbsModel.model = mdl\nH2OAbsModel.h2oll = import_lineshape('h2oll')\nO2AbsModel.o2ll = import_lineshape('o2ll')\n\nawet = np.zeros((len(frq), len(z)))\nadry = np.zeros((len(frq), len(z)))\n\nfor j in range(0, len(frq)):\n    awet[j, :], adry[j, :] = RTEquation.clearsky_absorption(p, t, e, frq[j])\n\nfig, ax = plt.subplots(1, 2, figsize=(12, 12))\naxis_lim = [0, 7]\n\n\ndef tick_function_pressure(x):\n    v = height_to_pressure(x * 1000)\n    return [\"%.2f\" % z for z in v]\n\n\nax[1].yaxis.set_label_position(\"right\")\nax[1].yaxis.tick_right()\nax[1].yaxis.set_major_formatter(ScalarFormatter())\nax[1].yaxis.set_major_formatter(ticker.FuncFormatter(lambda y, _: '{:g}'.format(y)))\n\nmask = np.isin(frq, [20, 22, 60])\nfreq = np.nonzero(mask)\nfor i in freq[0]:\n    ax[0].plot(awet[i, :], z, label='{} GHz - {}'.format(frq[i], mdl))\n    ax[1].plot(adry[i, :], z, label='{} GHz - {}'.format(frq[i], mdl))\n\n# ax[0].plot(rho, z, label='Vapor density [g/m3]', linestyle='--')\n\nax[0].set_xlabel(\"WV [Np/km]\")\nax[1].set_xlabel(\"DryAir [Np/km]\")\nax[1].axes.get_yaxis().set_visible(False)\nax[0].set_ylabel(\"Altitude [km]\")\n\nax[0].set_ylim(axis_lim)\nax[1].set_ylim(axis_lim)\n\nnew_tick_locations_pressure = np.arange(0, 120, 1)\n\nax3 = ax[0].twinx()\nrspine = ax3.spines['left'].set_position(('axes', -0.2))\nax3.yaxis.set_ticks_position(\"left\")\nax3.yaxis.set_label_position(\"left\")\nax3.set_frame_on(True)\nax3.patch.set_visible(False)\nax3.set_ylabel('Pressure [hPa]')\nax3.set_yticks(new_tick_locations_pressure)\nax3.set_yticklabels(tick_function_pressure(new_tick_locations_pressure))\nax3.set_ylim(ax[1].get_ylim())\n\nax[0].legend(loc=\"upper right\")\nax[1].legend(loc=\"upper right\")\n\nfig.tight_layout()"
      ]
    }
  ],
  "metadata": {
    "kernelspec": {
      "display_name": "Python 3",
      "language": "python",
      "name": "python3"
    },
    "language_info": {
      "codemirror_mode": {
        "name": "ipython",
        "version": 3
      },
      "file_extension": ".py",
      "mimetype": "text/x-python",
      "name": "python",
      "nbconvert_exporter": "python",
      "pygments_lexer": "ipython3",
      "version": "3.12.3"
    }
  },
  "nbformat": 4,
  "nbformat_minor": 0
}