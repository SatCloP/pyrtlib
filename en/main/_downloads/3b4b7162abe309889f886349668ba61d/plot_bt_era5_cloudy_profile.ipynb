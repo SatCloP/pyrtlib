{
  "cells": [
    {
      "cell_type": "markdown",
      "metadata": {},
      "source": [
        "\n# Performing Upwelling Brightness Temperature calculation using ERA5 Reanalysis Observations in cloudy condition.\n"
      ]
    },
    {
      "cell_type": "markdown",
      "metadata": {},
      "source": [
        "This example shows how to use the\n:py:class:`pyrtlib.tb_spectrum.TbCloudRTE` method to calculate brightness temperature from satellite (upwelling) using\nobservations from ERA5 Reanalysis hourly pressure levels dataset in cloudy condition.\n\n"
      ]
    },
    {
      "cell_type": "code",
      "execution_count": null,
      "metadata": {
        "collapsed": false
      },
      "outputs": [],
      "source": [
        "import matplotlib.pyplot as plt\nimport matplotlib.gridspec as gridspec\n\nplt.rcParams.update({'font.size': 15})\nimport numpy as np\nfrom pyrtlib.tb_spectrum import TbCloudRTE\nfrom pyrtlib.utils import import_lineshape, kgkg_to_kgm3\nfrom pyrtlib.absorption_model import H2OAbsModel\nfrom pyrtlib.apiwebservices import ERA5Reanalysis\n\n# To request dataset via CDS API\n# date = datetime(2020, 2, 22, 12)\n# nc_file = ERA5Reanalysis.request_data(tempfile.gettempdir(), date, lonlat)\n\nlonlat = (15.13, 37.87)\nnc_file = 'era5_reanalysis-2023-05-16T18:00:00.nc'\ndf_era5 = ERA5Reanalysis.read_data(nc_file, lonlat)\n\nmdl = 'R21SD'\nang = np.array([90.])\nfrq = np.arange(20, 101, 1)\nnf = len(frq)\n\ncldh = np.empty((2, 1))\ncldh[:, 0] = np.array([np.min(df_era5.z), np.max(df_era5.z)])\n\ntotal_mass = 1 - df_era5.ciwc.values - df_era5.clwc.values - df_era5.crwc.values - df_era5.cswc.values\ndenice = df_era5.ciwc.values * (1/total_mass) * kgkg_to_kgm3(df_era5.q.values * (1/total_mass),\n                                            df_era5.p.values, df_era5.t.values) * 1000\ndenliq = df_era5.clwc.values * (1/total_mass) * kgkg_to_kgm3(df_era5.q.values * (1/total_mass),\n                                            df_era5.p.values, df_era5.t.values) * 1000\n\nfig = plt.figure(figsize=(12, 8))\ngs = gridspec.GridSpec(1, 3,\n                       width_ratios=[3, 1, 1],\n                       height_ratios=[4],\n                       hspace=0, wspace=0.4)\nax1 = plt.subplot(gs[:, :-1])\nax2 = plt.subplot(gs[:, 2])\n\nfig.suptitle(\"ERA5 Reanalysis dataset (hourly pressure levels) {0} \\nLon. {1[0]}, Lat. {1[1]}\"\n             .format(df_era5.time[0].strftime(format='%Y-%m-%d %H:%M'), lonlat), ha='center')\nax1.set_xlabel('Frequency [GHz]')\nax1.set_ylabel('${T_B}$ [K]')\n\nrte = TbCloudRTE(df_era5.z.values, df_era5.p.values, df_era5.t.values, df_era5.rh.values, frq, ang)\nrte.init_absmdl('R20')\nH2OAbsModel.model = 'R21SD'\nH2OAbsModel.h2oll = import_lineshape('h2oll')\nfor cloudy in [False, True]:\n    rte.cloudy = cloudy\n    rte.emissivity = 0.6\n    rte.init_cloudy(cldh, denice, denliq)\n    df = rte.execute()\n    df = df.set_index(frq)\n    c = '(cloudy)' if cloudy else '(clearsky)'\n    df.tbtotal.plot(ax=ax1, linewidth=2, label='{} {}'.format(mdl, c))\n\nax2.set_xlabel('Density [$g/m^3$]')\nax2.set_ylabel('Pressure [hPa]')\nax2.plot(denliq, df_era5.p.values, label='LWC')\nax2.plot(denice, df_era5.p.values, label='IWC')\nax2.invert_yaxis()\n\nax1.legend()\nax2.legend()\n\ngs.tight_layout(fig)\nplt.show()"
      ]
    }
  ],
  "metadata": {
    "kernelspec": {
      "display_name": "Python 3",
      "language": "python",
      "name": "python3"
    },
    "language_info": {
      "codemirror_mode": {
        "name": "ipython",
        "version": 3
      },
      "file_extension": ".py",
      "mimetype": "text/x-python",
      "name": "python",
      "nbconvert_exporter": "python",
      "pygments_lexer": "ipython3",
      "version": "3.12.3"
    }
  },
  "nbformat": 4,
  "nbformat_minor": 0
}