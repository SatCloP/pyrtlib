{
  "cells": [
    {
      "cell_type": "markdown",
      "metadata": {},
      "source": [
        "\n# Logarithmic dependence of monochromatic radiance at 22.235 and 183 GHz\n"
      ]
    },
    {
      "cell_type": "markdown",
      "metadata": {},
      "source": [
        "This example shows the logarithmic dependence of monochromatic radiance at 22.235 GHz and 183 GHz\non the water vapor content in the atmosphere. The brigthness temperature are calculated using the\n:py:class:`pyrtlib.tb_spectrum.TbCloudRTE` method for the zenith view angle and\nthe following water vapor content: 1/8, 1/4, 1/2, 1, 2, 4, 8 times the water vapor\ncontent of the reference atmosphere. The reference atmosphere is the Tropical atmosphere\n\n"
      ]
    },
    {
      "cell_type": "code",
      "execution_count": null,
      "metadata": {
        "collapsed": false
      },
      "outputs": [],
      "source": [
        "# Reference: Huang & Bani, 2014. \n\nimport numpy as np\n\nimport matplotlib.pyplot as plt\nimport matplotlib as mpl\nmpl.rcParams[\"axes.spines.right\"] = True\nmpl.rcParams[\"axes.spines.top\"] = True\nplt.rcParams.update({'font.size': 30})\n\n\nfrom pyrtlib.climatology import AtmosphericProfiles as atmp\nfrom pyrtlib.tb_spectrum import TbCloudRTE\nfrom pyrtlib.absorption_model import O2AbsModel\nfrom pyrtlib.utils import ppmv2gkg, mr2rh\n\nz, p, _, t, md = atmp.gl_atm(atmp.TROPICAL)\n\ntb_23 = []\ntb_183 = []\ntau_23 = []\ntau_183 = []\nm = [1/8, 1/4, 1/2, 1, 2, 4, 8]\n\nfor i in range(0, 7):\n    gkg = ppmv2gkg(md[:, atmp.H2O], atmp.H2O) * m[i]\n    rh = mr2rh(p, t, gkg)[0] / 100\n\n    # frq = np.arange(20, 201, 1)\n    frq = np.array([22.235, 183])\n    rte = TbCloudRTE(z, p, t, rh, frq)\n    rte.init_absmdl('R22SD')\n    O2AbsModel.model = 'R22'\n    df = rte.execute()\n    df['tau'] = df.tauwet + df.taudry\n    tb_23.append(df.tbtotal[0])\n    tb_183.append(df.tbtotal[1])\n    tau_23.append(df.tau[0])\n    tau_183.append(df.tau[1])\n    \ntb_023 = np.array(tb_23) - tb_23[3]\ntb_0183 = np.array(tb_183) - tb_183[3]\n\nfig, axes = plt.subplots(2, 2, figsize=(24, 14), sharex=True)\naxes[0, 1].tick_params(axis='both', direction='in', length=10, width=.5)\naxes[0, 1].plot(np.log2(m), tb_0183, linestyle='--', linewidth=3, color='black')\naxes[0, 1].plot(np.log2(m), tb_0183, marker='+', linestyle='None', color='r', ms=20, markeredgewidth=5)\naxes[0, 1].set_title(f\"{frq[1]} GHz\")\naxes[0, 1].grid(True, 'both')\naxes[0, 1].annotate(\"c)\", xy=(0.02, 0.05), xycoords='axes fraction', fontsize=40)\n\naxes[0, 0].set_ylabel('$\\Delta T_B$ [K]')\naxes[0, 0].tick_params(axis='both', direction='in', length=10, width=.5)\naxes[0, 0].plot(np.log2(m), tb_023, linestyle='--', linewidth=3, color='black')\naxes[0, 0].plot(np.log2(m), tb_023, marker='+', linestyle='None', color='r', ms=20, markeredgewidth=5)\naxes[0, 0].set_title(f\"{frq[0]} GHz\")\naxes[0, 0].grid(True, 'both')\naxes[0, 0].annotate(\"a)\", xy=(0.02, 0.05), xycoords='axes fraction', fontsize=40)\n\naxes[1, 1].set_xlabel('$log_2(SF_{q_{H_2O}}))$')\naxes[1, 1].tick_params(axis='both', direction='in', length=10, width=.5)\naxes[1, 1].plot(np.log2(m), tau_183, linestyle='--', linewidth=3, color='black')\naxes[1, 1].plot(np.log2(m), tau_183, marker='+', linestyle='None', color='blue', ms=20, markeredgewidth=5)\naxes[1, 1].grid(True, 'both')\naxes[1, 1].annotate(\"d)\", xy=(0.02, 0.88), xycoords='axes fraction', fontsize=40)\n\naxes[1, 0].set_xlabel('$log_2(SF_{q_{H_2O}})$')\naxes[1, 0].set_ylabel('$\\\\tau$ [Np]')\naxes[1, 0].tick_params(axis='both', direction='in', length=10, width=.5)\naxes[1, 0].plot(np.log2(m), tau_23, linestyle='--', linewidth=3, color='black')\naxes[1, 0].plot(np.log2(m), tau_23, marker='+', linestyle='None', color='blue', ms=20, markeredgewidth=5)\naxes[1, 0].grid(True, 'both')\naxes[1, 0].annotate(\"b)\", xy=(0.02, 0.88), xycoords='axes fraction', fontsize=40)\n\nplt.tight_layout()\n\nplt.show()"
      ]
    }
  ],
  "metadata": {
    "kernelspec": {
      "display_name": "Python 3",
      "language": "python",
      "name": "python3"
    },
    "language_info": {
      "codemirror_mode": {
        "name": "ipython",
        "version": 3
      },
      "file_extension": ".py",
      "mimetype": "text/x-python",
      "name": "python",
      "nbconvert_exporter": "python",
      "pygments_lexer": "ipython3",
      "version": "3.12.3"
    }
  },
  "nbformat": 4,
  "nbformat_minor": 0
}